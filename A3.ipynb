{
 "cells": [
  {
   "cell_type": "markdown",
   "id": "b9e1aad1",
   "metadata": {},
   "source": [
    "* Review classification models: Random Forest, Gradient Boosting Tree, SVM\n",
    "* Perform feature selection using iterative methods and PCA"
   ]
  },
  {
   "cell_type": "code",
   "execution_count": 1,
   "id": "33862ac4",
   "metadata": {},
   "outputs": [],
   "source": [
    "import numpy as np\n",
    "import pandas as pd\n",
    "from matplotlib import pyplot as plt\n",
    "from sklearn.metrics import confusion_matrix"
   ]
  },
  {
   "cell_type": "markdown",
   "id": "16b72820",
   "metadata": {},
   "source": [
    "# Dataset\n",
    "\n",
    "For this assignment, we will use the `Weekly S&P Stock Market Data`. This dataset contains the weekly percentage returns for the S&P 500 stock index between 1990 and 2010. The following is the description of the variables:\n",
    "\n",
    "* Year: The year that the observation was recorded\n",
    "* Lag1: Percentage return for previous week\n",
    "* Lag2: Percentage return for 2 weeks previous\n",
    "* Lag3: Percentage return for 3 weeks previous\n",
    "* Lag4: Percentage return for 4 weeks previous\n",
    "* Lag5: Percentage return for 5 weeks previous\n",
    "* Volume: Volume of shares traded (average number of daily shares traded in billions)\n",
    "* Today: Percentage return for this week\n",
    "* Direction: A factor with levels ‘Down’ and ‘Up’ indicating whether the market had a positive or negative return on a given week.\n",
    "\n",
    "Source: Raw values of the S&P 500 were obtained from Yahoo Finance and then converted to percentages and lagged."
   ]
  },
  {
   "cell_type": "code",
   "execution_count": 2,
   "id": "6721e81d",
   "metadata": {},
   "outputs": [
    {
     "data": {
      "text/plain": [
       "(1089, 9)"
      ]
     },
     "execution_count": 2,
     "metadata": {},
     "output_type": "execute_result"
    }
   ],
   "source": [
    "Weekly = pd.read_csv('Weekly.csv')\n",
    "Weekly.shape"
   ]
  },
  {
   "cell_type": "code",
   "execution_count": 3,
   "id": "1dede07d",
   "metadata": {},
   "outputs": [
    {
     "data": {
      "text/html": [
       "<div>\n",
       "<style scoped>\n",
       "    .dataframe tbody tr th:only-of-type {\n",
       "        vertical-align: middle;\n",
       "    }\n",
       "\n",
       "    .dataframe tbody tr th {\n",
       "        vertical-align: top;\n",
       "    }\n",
       "\n",
       "    .dataframe thead th {\n",
       "        text-align: right;\n",
       "    }\n",
       "</style>\n",
       "<table border=\"1\" class=\"dataframe\">\n",
       "  <thead>\n",
       "    <tr style=\"text-align: right;\">\n",
       "      <th></th>\n",
       "      <th>Year</th>\n",
       "      <th>Lag1</th>\n",
       "      <th>Lag2</th>\n",
       "      <th>Lag3</th>\n",
       "      <th>Lag4</th>\n",
       "      <th>Lag5</th>\n",
       "      <th>Volume</th>\n",
       "      <th>Today</th>\n",
       "      <th>Direction</th>\n",
       "    </tr>\n",
       "  </thead>\n",
       "  <tbody>\n",
       "    <tr>\n",
       "      <th>0</th>\n",
       "      <td>1990</td>\n",
       "      <td>0.816</td>\n",
       "      <td>1.572</td>\n",
       "      <td>-3.936</td>\n",
       "      <td>-0.229</td>\n",
       "      <td>-3.484</td>\n",
       "      <td>0.154976</td>\n",
       "      <td>-0.270</td>\n",
       "      <td>Down</td>\n",
       "    </tr>\n",
       "    <tr>\n",
       "      <th>1</th>\n",
       "      <td>1990</td>\n",
       "      <td>-0.270</td>\n",
       "      <td>0.816</td>\n",
       "      <td>1.572</td>\n",
       "      <td>-3.936</td>\n",
       "      <td>-0.229</td>\n",
       "      <td>0.148574</td>\n",
       "      <td>-2.576</td>\n",
       "      <td>Down</td>\n",
       "    </tr>\n",
       "    <tr>\n",
       "      <th>2</th>\n",
       "      <td>1990</td>\n",
       "      <td>-2.576</td>\n",
       "      <td>-0.270</td>\n",
       "      <td>0.816</td>\n",
       "      <td>1.572</td>\n",
       "      <td>-3.936</td>\n",
       "      <td>0.159837</td>\n",
       "      <td>3.514</td>\n",
       "      <td>Up</td>\n",
       "    </tr>\n",
       "    <tr>\n",
       "      <th>3</th>\n",
       "      <td>1990</td>\n",
       "      <td>3.514</td>\n",
       "      <td>-2.576</td>\n",
       "      <td>-0.270</td>\n",
       "      <td>0.816</td>\n",
       "      <td>1.572</td>\n",
       "      <td>0.161630</td>\n",
       "      <td>0.712</td>\n",
       "      <td>Up</td>\n",
       "    </tr>\n",
       "    <tr>\n",
       "      <th>4</th>\n",
       "      <td>1990</td>\n",
       "      <td>0.712</td>\n",
       "      <td>3.514</td>\n",
       "      <td>-2.576</td>\n",
       "      <td>-0.270</td>\n",
       "      <td>0.816</td>\n",
       "      <td>0.153728</td>\n",
       "      <td>1.178</td>\n",
       "      <td>Up</td>\n",
       "    </tr>\n",
       "    <tr>\n",
       "      <th>5</th>\n",
       "      <td>1990</td>\n",
       "      <td>1.178</td>\n",
       "      <td>0.712</td>\n",
       "      <td>3.514</td>\n",
       "      <td>-2.576</td>\n",
       "      <td>-0.270</td>\n",
       "      <td>0.154444</td>\n",
       "      <td>-1.372</td>\n",
       "      <td>Down</td>\n",
       "    </tr>\n",
       "    <tr>\n",
       "      <th>6</th>\n",
       "      <td>1990</td>\n",
       "      <td>-1.372</td>\n",
       "      <td>1.178</td>\n",
       "      <td>0.712</td>\n",
       "      <td>3.514</td>\n",
       "      <td>-2.576</td>\n",
       "      <td>0.151722</td>\n",
       "      <td>0.807</td>\n",
       "      <td>Up</td>\n",
       "    </tr>\n",
       "    <tr>\n",
       "      <th>7</th>\n",
       "      <td>1990</td>\n",
       "      <td>0.807</td>\n",
       "      <td>-1.372</td>\n",
       "      <td>1.178</td>\n",
       "      <td>0.712</td>\n",
       "      <td>3.514</td>\n",
       "      <td>0.132310</td>\n",
       "      <td>0.041</td>\n",
       "      <td>Up</td>\n",
       "    </tr>\n",
       "    <tr>\n",
       "      <th>8</th>\n",
       "      <td>1990</td>\n",
       "      <td>0.041</td>\n",
       "      <td>0.807</td>\n",
       "      <td>-1.372</td>\n",
       "      <td>1.178</td>\n",
       "      <td>0.712</td>\n",
       "      <td>0.143972</td>\n",
       "      <td>1.253</td>\n",
       "      <td>Up</td>\n",
       "    </tr>\n",
       "    <tr>\n",
       "      <th>9</th>\n",
       "      <td>1990</td>\n",
       "      <td>1.253</td>\n",
       "      <td>0.041</td>\n",
       "      <td>0.807</td>\n",
       "      <td>-1.372</td>\n",
       "      <td>1.178</td>\n",
       "      <td>0.133635</td>\n",
       "      <td>-2.678</td>\n",
       "      <td>Down</td>\n",
       "    </tr>\n",
       "  </tbody>\n",
       "</table>\n",
       "</div>"
      ],
      "text/plain": [
       "   Year   Lag1   Lag2   Lag3   Lag4   Lag5    Volume  Today Direction\n",
       "0  1990  0.816  1.572 -3.936 -0.229 -3.484  0.154976 -0.270      Down\n",
       "1  1990 -0.270  0.816  1.572 -3.936 -0.229  0.148574 -2.576      Down\n",
       "2  1990 -2.576 -0.270  0.816  1.572 -3.936  0.159837  3.514        Up\n",
       "3  1990  3.514 -2.576 -0.270  0.816  1.572  0.161630  0.712        Up\n",
       "4  1990  0.712  3.514 -2.576 -0.270  0.816  0.153728  1.178        Up\n",
       "5  1990  1.178  0.712  3.514 -2.576 -0.270  0.154444 -1.372      Down\n",
       "6  1990 -1.372  1.178  0.712  3.514 -2.576  0.151722  0.807        Up\n",
       "7  1990  0.807 -1.372  1.178  0.712  3.514  0.132310  0.041        Up\n",
       "8  1990  0.041  0.807 -1.372  1.178  0.712  0.143972  1.253        Up\n",
       "9  1990  1.253  0.041  0.807 -1.372  1.178  0.133635 -2.678      Down"
      ]
     },
     "execution_count": 3,
     "metadata": {},
     "output_type": "execute_result"
    }
   ],
   "source": [
    "Weekly.head(10)"
   ]
  },
  {
   "cell_type": "markdown",
   "id": "cb6af1d5",
   "metadata": {},
   "source": [
    "# Splitting data into training and set"
   ]
  },
  {
   "cell_type": "markdown",
   "id": "f1787c99",
   "metadata": {},
   "source": [
    "For this assignment, we will train our models using data from 1990 to 2005. The validation set will include data from 2006 to 2009. Finally, the test set will include data corresponding to 2010."
   ]
  },
  {
   "cell_type": "markdown",
   "id": "da4b9633",
   "metadata": {},
   "source": [
    "The purpose will be to predict the variable `Direction`, which indicates if the SP&500 index went down or up that week. We will use the five lag variables plus volume as predictors."
   ]
  },
  {
   "cell_type": "code",
   "execution_count": 4,
   "id": "809f5eb7",
   "metadata": {},
   "outputs": [
    {
     "name": "stdout",
     "output_type": "stream",
     "text": [
      "(828, 6) (209, 6) (52, 6)\n",
      "(828,) (209,) (52,)\n"
     ]
    }
   ],
   "source": [
    "from sklearn.model_selection import StratifiedShuffleSplit\n",
    "\n",
    "cols =Weekly.columns[1:-2]\n",
    "\n",
    "X_train = Weekly.loc[ Weekly['Year'] < 2006 ][ cols ]\n",
    "X_val = Weekly.loc[ ( Weekly['Year'] >= 2006) &  ( Weekly['Year'] < 2010) ][ cols ]\n",
    "X_test = Weekly.loc[  Weekly['Year'] >= 2010][ cols ]\n",
    "\n",
    "X_test_actual = Weekly.loc[  Weekly['Year'] >= 2010, 'Today' ]\n",
    "\n",
    "\n",
    "y_train = Weekly.loc[ Weekly['Year'] < 2006 ]['Direction'].replace({'Down':0, 'Up':1})\n",
    "y_val = Weekly.loc[ ( Weekly['Year'] >= 2006) &  ( Weekly['Year'] < 2010) ]['Direction'].replace({'Down':0, 'Up':1})\n",
    "y_test = Weekly.loc[ Weekly['Year'] >= 2010 ]['Direction'].replace({'Down':0, 'Up':1})\n",
    "    \n",
    "\n",
    "print( X_train.shape, X_val.shape, X_test.shape )\n",
    "print( y_train.shape, y_val.shape, y_test.shape )"
   ]
  },
  {
   "cell_type": "code",
   "execution_count": 5,
   "id": "8b770661",
   "metadata": {},
   "outputs": [
    {
     "data": {
      "text/html": [
       "<div>\n",
       "<style scoped>\n",
       "    .dataframe tbody tr th:only-of-type {\n",
       "        vertical-align: middle;\n",
       "    }\n",
       "\n",
       "    .dataframe tbody tr th {\n",
       "        vertical-align: top;\n",
       "    }\n",
       "\n",
       "    .dataframe thead th {\n",
       "        text-align: right;\n",
       "    }\n",
       "</style>\n",
       "<table border=\"1\" class=\"dataframe\">\n",
       "  <thead>\n",
       "    <tr style=\"text-align: right;\">\n",
       "      <th></th>\n",
       "      <th>Lag1</th>\n",
       "      <th>Lag2</th>\n",
       "      <th>Lag3</th>\n",
       "      <th>Lag4</th>\n",
       "      <th>Lag5</th>\n",
       "      <th>Volume</th>\n",
       "    </tr>\n",
       "  </thead>\n",
       "  <tbody>\n",
       "    <tr>\n",
       "      <th>0</th>\n",
       "      <td>0.816</td>\n",
       "      <td>1.572</td>\n",
       "      <td>-3.936</td>\n",
       "      <td>-0.229</td>\n",
       "      <td>-3.484</td>\n",
       "      <td>0.154976</td>\n",
       "    </tr>\n",
       "    <tr>\n",
       "      <th>1</th>\n",
       "      <td>-0.270</td>\n",
       "      <td>0.816</td>\n",
       "      <td>1.572</td>\n",
       "      <td>-3.936</td>\n",
       "      <td>-0.229</td>\n",
       "      <td>0.148574</td>\n",
       "    </tr>\n",
       "    <tr>\n",
       "      <th>2</th>\n",
       "      <td>-2.576</td>\n",
       "      <td>-0.270</td>\n",
       "      <td>0.816</td>\n",
       "      <td>1.572</td>\n",
       "      <td>-3.936</td>\n",
       "      <td>0.159837</td>\n",
       "    </tr>\n",
       "    <tr>\n",
       "      <th>3</th>\n",
       "      <td>3.514</td>\n",
       "      <td>-2.576</td>\n",
       "      <td>-0.270</td>\n",
       "      <td>0.816</td>\n",
       "      <td>1.572</td>\n",
       "      <td>0.161630</td>\n",
       "    </tr>\n",
       "    <tr>\n",
       "      <th>4</th>\n",
       "      <td>0.712</td>\n",
       "      <td>3.514</td>\n",
       "      <td>-2.576</td>\n",
       "      <td>-0.270</td>\n",
       "      <td>0.816</td>\n",
       "      <td>0.153728</td>\n",
       "    </tr>\n",
       "  </tbody>\n",
       "</table>\n",
       "</div>"
      ],
      "text/plain": [
       "    Lag1   Lag2   Lag3   Lag4   Lag5    Volume\n",
       "0  0.816  1.572 -3.936 -0.229 -3.484  0.154976\n",
       "1 -0.270  0.816  1.572 -3.936 -0.229  0.148574\n",
       "2 -2.576 -0.270  0.816  1.572 -3.936  0.159837\n",
       "3  3.514 -2.576 -0.270  0.816  1.572  0.161630\n",
       "4  0.712  3.514 -2.576 -0.270  0.816  0.153728"
      ]
     },
     "execution_count": 5,
     "metadata": {},
     "output_type": "execute_result"
    }
   ],
   "source": [
    "X_train.head()"
   ]
  },
  {
   "cell_type": "markdown",
   "id": "caea9469",
   "metadata": {},
   "source": [
    "## Imbalanced dataset"
   ]
  },
  {
   "cell_type": "markdown",
   "id": "c7dec965",
   "metadata": {},
   "source": [
    "Before going to the training stage, let's check how is the distribution of the classes in the training set."
   ]
  },
  {
   "cell_type": "code",
   "execution_count": 6,
   "id": "c2c3c967",
   "metadata": {},
   "outputs": [
    {
     "data": {
      "text/plain": [
       "1    0.559179\n",
       "0    0.440821\n",
       "Name: Direction, dtype: float64"
      ]
     },
     "execution_count": 6,
     "metadata": {},
     "output_type": "execute_result"
    }
   ],
   "source": [
    "y_train.value_counts()/len(y_train)"
   ]
  },
  {
   "cell_type": "markdown",
   "id": "a592df78",
   "metadata": {},
   "source": [
    "Class 1 (Up) overpasses the number of samples with class 0. This imbalance between classes can affect the training of our models. To overcome this, we can use the oversampling technique, sampling with the replacement of the minority class, so that both of them have a similar proportion. To read more, please check this: https://en.wikipedia.org/wiki/Oversampling_and_undersampling_in_data_analysis"
   ]
  },
  {
   "cell_type": "markdown",
   "id": "55c18e94",
   "metadata": {},
   "source": [
    "In Python, we can use the class SMOTE from the imblearn.over_sampling library for such purpose.   https://imbalanced-learn.org/stable/references/generated/imblearn.over_sampling.SMOTE.html"
   ]
  },
  {
   "cell_type": "code",
   "execution_count": null,
   "id": "8123ed29",
   "metadata": {},
   "outputs": [],
   "source": [
    "from imblearn.over_sampling import RandomOverSampler\n",
    "from imblearn.over_sampling import SMOTE\n",
    "# Initialize SMOTE\n",
    "smote = SMOTE(random_state=42  )\n",
    "\n",
    "# Apply SMOTE to the dataset\n",
    "X_train_over, y_train = smote.fit_resample( X_train, y_train )\n",
    "\n",
    "#ros = RandomOverSampler(random_state=42)\n",
    "#X_train_over, y_train = ros.fit_resample( X_train, y_train )"
   ]
  },
  {
   "cell_type": "markdown",
   "id": "c52c4b42",
   "metadata": {},
   "source": [
    "If we check again the proportion, now we see that they have similar proportion."
   ]
  },
  {
   "cell_type": "code",
   "execution_count": 8,
   "id": "1a7ea037",
   "metadata": {},
   "outputs": [
    {
     "data": {
      "text/plain": [
       "0    0.5\n",
       "1    0.5\n",
       "Name: Direction, dtype: float64"
      ]
     },
     "execution_count": 8,
     "metadata": {},
     "output_type": "execute_result"
    }
   ],
   "source": [
    "y_train.value_counts()/len(y_train)"
   ]
  },
  {
   "cell_type": "markdown",
   "id": "e6316f3f",
   "metadata": {},
   "source": [
    "## Normalizing features"
   ]
  },
  {
   "cell_type": "markdown",
   "id": "e3c3081d",
   "metadata": {},
   "source": [
    "Finally, we normalize the features using the StandardScaler."
   ]
  },
  {
   "cell_type": "code",
   "execution_count": 9,
   "id": "f5e9ff75",
   "metadata": {},
   "outputs": [],
   "source": [
    "from sklearn.preprocessing import StandardScaler\n",
    "\n",
    "scaler = StandardScaler()\n",
    "\n",
    "X_train_scaled = scaler.fit_transform(X_train_over)\n",
    "X_val_scaled = scaler.transform(X_val)\n",
    "X_test_scaled = scaler.transform(X_test)\n",
    "\n"
   ]
  },
  {
   "cell_type": "markdown",
   "id": "fb5501ea",
   "metadata": {},
   "source": [
    "# Visualizing using PCA"
   ]
  },
  {
   "cell_type": "markdown",
   "id": "b5180a07",
   "metadata": {},
   "source": [
    "The current dataset has a total of six features, which makes challenging to visualize.\n",
    "\n",
    "So, we will use PCA to reduce dimensionality into two PCA."
   ]
  },
  {
   "cell_type": "markdown",
   "id": "10a6d866",
   "metadata": {},
   "source": [
    "**[5 pts]** Apply PCA to the `X_train_scaled` to find the principal components. You can use the in-built PCA library."
   ]
  },
  {
   "cell_type": "code",
   "execution_count": 10,
   "id": "0cb6a820",
   "metadata": {},
   "outputs": [],
   "source": [
    "from sklearn.decomposition import PCA\n",
    "\n",
    "\n",
    "# TO DO"
   ]
  },
  {
   "cell_type": "markdown",
   "id": "e83610d6",
   "metadata": {},
   "source": [
    "**[5 pts]** Make a scatter plot, locating the principal component on the x-axis and the second component on the y-axis. For the *Down* samples, use 'v' as a marker and 'r' as a color. For the *Up* samples, use '^' as a marker and 'g' as a color."
   ]
  },
  {
   "cell_type": "code",
   "execution_count": 11,
   "id": "180253ae",
   "metadata": {},
   "outputs": [
    {
     "data": {
      "image/png": "[encoded data removed]",
      "text/plain": [
       "<Figure size 640x480 with 1 Axes>"
      ]
     },
     "metadata": {},
     "output_type": "display_data"
    }
   ],
   "source": [
    "# TO DO\n",
    "\n",
    "plt.figure()\n",
    "\n",
    "plt.show()"
   ]
  },
  {
   "cell_type": "markdown",
   "id": "82987a0c",
   "metadata": {},
   "source": [
    "**[4 pts]** Calculate how many components are need to keep at least 80% of the data."
   ]
  },
  {
   "cell_type": "code",
   "execution_count": 12,
   "id": "f0eb18cf",
   "metadata": {},
   "outputs": [],
   "source": [
    "#TO DO\n",
    "\n"
   ]
  },
  {
   "cell_type": "markdown",
   "id": "5e541ce4",
   "metadata": {},
   "source": [
    "You do NOT have to do the plot below. You need to find the number of components using Python instructions. You can check your answer with the plot."
   ]
  },
  {
   "attachments": {
    "image.png": {
     "image/png": "[encoded data removed]"
    }
   },
   "cell_type": "markdown",
   "id": "c9e9fee6",
   "metadata": {},
   "source": [
    "![image.png](attachment:image.png)"
   ]
  },
  {
   "cell_type": "markdown",
   "id": "c2bdb944",
   "metadata": {},
   "source": [
    "**[4 pts]** Train a Logistic regression using the number of components identified in the previous question. Test the model into the test set. To transform the test set use: `X_test_pca = pca.transform( X_test_scaled )`, where pca is the PCA object you fit into the training data.\n",
    "\n"
   ]
  },
  {
   "cell_type": "code",
   "execution_count": 28,
   "id": "1adcf139",
   "metadata": {},
   "outputs": [],
   "source": [
    "from sklearn.linear_model import LogisticRegression\n",
    "\n",
    "# TO DO"
   ]
  },
  {
   "cell_type": "code",
   "execution_count": null,
   "id": "4d1dbfce",
   "metadata": {},
   "outputs": [],
   "source": [
    "confusion_matrix( y_test, pred )"
   ]
  },
  {
   "cell_type": "markdown",
   "id": "9fb7cb2d",
   "metadata": {},
   "source": [
    "# Selecting features backward search"
   ]
  },
  {
   "cell_type": "markdown",
   "id": "22c24ada",
   "metadata": {},
   "source": [
    "[**8 pts**] As we saw in class, we can also select features using an iterative procedure. The code below performs feature selection using a backward search. Complete the missing parts."
   ]
  },
  {
   "cell_type": "markdown",
   "id": "b067aa11",
   "metadata": {},
   "source": [
    "As a metric we will use G-mean. This metric is defined as:\n",
    "$$G-mean = \\sqrt{ TPR \\times TNR }, $$ where TPR is the true positive rate (percentage of samples from the positive class predicted correctly), and TNR is the true positive rate (percentage of samples from the negative class predicted correctly)"
   ]
  },
  {
   "cell_type": "code",
   "execution_count": 16,
   "id": "85e72dce",
   "metadata": {},
   "outputs": [
    {
     "name": "stdout",
     "output_type": "stream",
     "text": [
      "Index(['Lag2', 'Lag3', 'Lag4', 'Lag5', 'Volume'], dtype='object') 0.4498749953914093\n",
      "Index(['Lag1', 'Lag3', 'Lag4', 'Lag5', 'Volume'], dtype='object') 0.30424000964875475\n",
      "Index(['Lag1', 'Lag2', 'Lag4', 'Lag5', 'Volume'], dtype='object') 0.46205911157505775\n",
      "Index(['Lag1', 'Lag2', 'Lag3', 'Lag5', 'Volume'], dtype='object') 0.4449492083146097\n",
      "Index(['Lag1', 'Lag2', 'Lag3', 'Lag4', 'Volume'], dtype='object') 0.39521936580516653\n",
      "Index(['Lag1', 'Lag2', 'Lag3', 'Lag4', 'Lag5'], dtype='object') 0.5222329678670935\n",
      "5 0.5222329678670935\n",
      "Index(['Lag2', 'Lag3', 'Lag4', 'Lag5'], dtype='object') 0.4839005885657973\n",
      "Index(['Lag1', 'Lag3', 'Lag4', 'Lag5'], dtype='object') 0.5020618644176028\n",
      "Index(['Lag1', 'Lag2', 'Lag4', 'Lag5'], dtype='object') 0.5126498974498794\n",
      "Index(['Lag1', 'Lag2', 'Lag3', 'Lag5'], dtype='object') 0.4883397032275719\n",
      "Index(['Lag1', 'Lag2', 'Lag3', 'Lag4'], dtype='object') 0.5366289362709977\n",
      "4 0.5366289362709977\n",
      "Index(['Lag2', 'Lag3', 'Lag4'], dtype='object') 0.5126498974498794\n",
      "Index(['Lag1', 'Lag3', 'Lag4'], dtype='object') 0.49329759382120325\n",
      "Index(['Lag1', 'Lag2', 'Lag4'], dtype='object') 0.5677270907634907\n",
      "Index(['Lag1', 'Lag2', 'Lag3'], dtype='object') 0.5412294272573258\n",
      "2 0.5677270907634907\n",
      "Index(['Lag2', 'Lag4'], dtype='object') 0.5366289362709977\n",
      "Index(['Lag1', 'Lag4'], dtype='object') 0.5600734570738386\n",
      "Index(['Lag1', 'Lag2'], dtype='object') 0.5397002875368045\n",
      "1 0.5600734570738386\n",
      "Index(['Lag1', 'Lag2', 'Lag4'], dtype='object')\n"
     ]
    }
   ],
   "source": [
    "from sklearn.metrics import f1_score\n",
    "\n",
    "#Total number of features. Initially it will contain six values: [0 1 2 3 4 5 ], each representing a feature\n",
    "features = np.arange( X_train_scaled.shape[1] ).tolist()\n",
    "selected = []\n",
    "\n",
    "stop = False\n",
    "\n",
    "#First we train a logistic regression, using all the features\n",
    "clf = LogisticRegression()\n",
    "clf.fit(X_train_scaled, y_train )\n",
    "\n",
    "pred = clf.predict( X_val_scaled )\n",
    "\n",
    "# TO DO \n",
    "# Calculate the g-mean\n",
    "cm = confusion_matrix( y_val, pred ) \n",
    "cm = cm/np.sum( cm, axis=1)[:,np.newaxis]\n",
    "gmean = np.sqrt( cm[0,0]*cm[1,1] )\n",
    "\n",
    "prevGmean = gmean\n",
    "\n",
    "while not stop:\n",
    "    \n",
    "    # Array to store gmean obtained by removing each feature\n",
    "    gmean_values = np.empty( len(features) ) \n",
    "    \n",
    "\n",
    "    for idxF in range( len( features ) ):\n",
    "        \n",
    "        #getting current feature\n",
    "        currentF = features[idxF ]\n",
    "        \n",
    "        # making a copy of the still features\n",
    "        remainingFeat = features.copy()\n",
    "        # remove the current feature\n",
    "        remainingFeat.remove( currentF )\n",
    "        \n",
    "        # TO DO \n",
    "        # Train logistic regression using the X_train_scaled[:, remainingFeat]\n",
    "        \n",
    "        # Calculate Gmean using  X_val_scaled[: ,remainingFeat ] \n",
    "        \n",
    "        \n",
    "        \n",
    "        gmean_values[ idxF ] = gmean \n",
    "        \n",
    "        print( cols[ remainingFeat],  gmean_values[ idxF ] )\n",
    "        idxF += 1 \n",
    "        \n",
    "    idxMin = np.argmax( gmean_values ) \n",
    "    dropFeat = features[ idxMin ] \n",
    "    \n",
    "    # TO DO\n",
    "    # write the condition that check if the feature can be dropped\n",
    "    if \n",
    "        prevGmean = gmean_values[ idxMin ]\n",
    "        features.remove( dropFeat )\n",
    "    else:\n",
    "        stop = True\n",
    "    \n",
    "    print( dropFeat,  gmean_values[ idxMin ] )\n",
    "        \n",
    "        \n",
    "print( cols[ features] )"
   ]
  },
  {
   "cell_type": "markdown",
   "id": "95351fa7",
   "metadata": {},
   "source": [
    "**[4 pts]** Using the best identified features, train a logisitc regression and evaluate on the test set"
   ]
  },
  {
   "cell_type": "code",
   "execution_count": 17,
   "id": "b6f4e47f",
   "metadata": {},
   "outputs": [
    {
     "data": {
      "text/plain": [
       "array([[12,  8],\n",
       "       [13, 19]], dtype=int64)"
      ]
     },
     "execution_count": 17,
     "metadata": {},
     "output_type": "execute_result"
    }
   ],
   "source": [
    "\n",
    "# TO DO   "
   ]
  },
  {
   "cell_type": "markdown",
   "id": "77cbfbe0",
   "metadata": {},
   "source": [
    "# Visualizing importance using a Random Forest"
   ]
  },
  {
   "cell_type": "markdown",
   "id": "bc888a67",
   "metadata": {},
   "source": [
    "We can also analyze which are the relevant features by training a random forest and then checking the feature relevance.  "
   ]
  },
  {
   "cell_type": "markdown",
   "id": "1c2d0b74",
   "metadata": {},
   "source": [
    "**[5 pts]** Train a Random Forest using the default parameters. Then make a bar plot of the feature importance."
   ]
  },
  {
   "cell_type": "code",
   "execution_count": 18,
   "id": "b36306cf",
   "metadata": {},
   "outputs": [
    {
     "data": {
      "image/png": "[encoded data removed]",
      "text/plain": [
       "<Figure size 500x400 with 1 Axes>"
      ]
     },
     "metadata": {},
     "output_type": "display_data"
    }
   ],
   "source": [
    "from sklearn.ensemble import RandomForestClassifier\n",
    "\n",
    "# TO DO"
   ]
  },
  {
   "cell_type": "markdown",
   "id": "27d830aa",
   "metadata": {},
   "source": [
    "   # Comparison Analysis"
   ]
  },
  {
   "cell_type": "markdown",
   "id": "090fbba7",
   "metadata": {},
   "source": [
    "Now, we want to train three different classifiers:\n",
    "- Random Forest\n",
    "- Gradient Boosting Tree\n",
    "- SVM\n",
    "\n",
    "For each classifiers, we will tune the hyperparameters."
   ]
  },
  {
   "cell_type": "markdown",
   "id": "d52ba5fd",
   "metadata": {},
   "source": [
    "### Random Forest\n",
    "\n",
    "**[8 pts]** Complete the hyperparameter tuning for the Random forest. \n",
    "\n",
    "For reproducibility, please include the set `random_state =0` inside the random forest object.\n",
    "\n",
    "Use Gmean as the metric factor to compare the hyperparameter configurations.\n",
    "\n",
    "You need to fit the model on the training data and evaluate the validation set."
   ]
  },
  {
   "cell_type": "code",
   "execution_count": 19,
   "id": "a1b891d8",
   "metadata": {},
   "outputs": [
    {
     "name": "stdout",
     "output_type": "stream",
     "text": [
      "hyperparameters:(50, 1, 5, 0.3), gmean :0.4889974000956196\n",
      "[[0.42424242 0.57575758]\n",
      " [0.43636364 0.56363636]]\n",
      "hyperparameters:(50, 1, 5, 0.4), gmean :0.49236596391733095\n",
      "[[0.48484848 0.51515152]\n",
      " [0.5        0.5       ]]\n",
      "hyperparameters:(50, 1, 5, 0.5), gmean :0.49478455301541396\n",
      "[[0.43434343 0.56565657]\n",
      " [0.43636364 0.56363636]]\n",
      "hyperparameters:(50, 1, 10, 0.3), gmean :0.5005047956863655\n",
      "[[0.44444444 0.55555556]\n",
      " [0.43636364 0.56363636]]\n",
      "hyperparameters:(100, 1, 5, 0.4), gmean :0.5019704058387553\n",
      "[[0.49494949 0.50505051]\n",
      " [0.49090909 0.50909091]]\n",
      "best combination for randome forest\n",
      "(100, 1, 5, 0.4)\n"
     ]
    }
   ],
   "source": [
    "from itertools import product\n",
    "\n",
    "\n",
    "# Define the parameter space\n",
    "space = {\n",
    "    'n_estimators': [ 50, 80, 100, 300  ],\n",
    "    'max_depth': [1, 2, 3, 4, 5 ],\n",
    "    'min_samples_leaf': [ 5, 7,  10],\n",
    "    'max_features': [.3, .4, .5 ]\n",
    "}\n",
    "\n",
    "# 'n_estimators': [25, 50, 100, 150], \n",
    "#     'max_features': ['sqrt', 'log2', None], \n",
    "#     'max_depth': [3, 6, 9], \n",
    "#     'max_leaf_nodes': [3, 6, 9], \n",
    "        \n",
    "\n",
    "# Compute the Cartesian product\n",
    "cartesian_product = list(product(*space.values()))\n",
    "\n",
    "maxScore = 0\n",
    "bestCombination_rf = None\n",
    "rf = None \n",
    "\n",
    "# Print the Cartesian product\n",
    "for combination in cartesian_product:        \n",
    "    n_estimators = combination[0]\n",
    "    max_depth = combination[1]\n",
    "    min_samples_leaf = combination[2]\n",
    "    max_features = combination[3]\n",
    "    \n",
    "    \n",
    "    # TO DO \n",
    "    #1. Define a random forest\n",
    "    #2. Fit using X_train_scaled, y_train\n",
    "    #3. predict on X_val_scaled\n",
    "    #4. calculate gmean\n",
    "    # 5. update best combionation if needed\n",
    "    \n",
    "    \n",
    "    \n",
    "    \n",
    "    if  \n",
    "        maxScore = gmean\n",
    "        bestCombination_rf = combination\n",
    "        print( 'hyperparameters:{}, gmean :{}'.format(combination, gmean ))\n",
    "        print( cm )\n",
    "        \n",
    "        \n",
    "\n",
    "        \n",
    "    \n",
    "print('best combination for randome forest')\n",
    "print( bestCombination_rf )\n",
    "    "
   ]
  },
  {
   "cell_type": "markdown",
   "id": "c4ee65e6",
   "metadata": {},
   "source": [
    "**[4 pts]** Use the best parameters to fit the final model. Then, check the accuracy of the test set.\n",
    "\n",
    "Please store the prediction of the test set into a variable called `pred_rf`.\n",
    "\n",
    "For reproducibility, please include the set `random_state =0` inside the random forest object.\n",
    "\n",
    "Print the confusion matrix (cm)"
   ]
  },
  {
   "cell_type": "code",
   "execution_count": 31,
   "id": "7c1410c0",
   "metadata": {},
   "outputs": [
    {
     "name": "stdout",
     "output_type": "stream",
     "text": [
      "[[0.65    0.35   ]\n",
      " [0.65625 0.34375]]\n"
     ]
    }
   ],
   "source": [
    "n_estimators = bestCombination_rf[0]\n",
    "max_depth = bestCombination_rf[1]\n",
    "min_samples_leaf = bestCombination_rf[2]\n",
    "max_features = bestCombination_rf[3]\n",
    "\n",
    "\n",
    "# TO DO\n",
    "\n",
    "print( cm )"
   ]
  },
  {
   "cell_type": "markdown",
   "id": "e009bb9d",
   "metadata": {},
   "source": [
    "### Gradient Boosting Tree"
   ]
  },
  {
   "cell_type": "markdown",
   "id": "9d1969c1",
   "metadata": {},
   "source": [
    "**[8 pts]** Complete the hyperparameter tuning for the Gradient Boosting Tree. \n",
    "\n",
    "For reproducibility, please include the set `random_state =0` inside the gradient boositing tree object.\n",
    "\n",
    "Use Gmean as the metric factor to compare the hyperparameter configurations.\n",
    "\n",
    "You need to fit the model on the training data and evaluate the validation set."
   ]
  },
  {
   "cell_type": "code",
   "execution_count": 21,
   "id": "92614a64",
   "metadata": {},
   "outputs": [
    {
     "name": "stdout",
     "output_type": "stream",
     "text": [
      "hyperparameters:(10, 1, 5, 0.2, 0.1), gmean :0.4146092454905956\n",
      "[[0.78787879 0.21212121]\n",
      " [0.78181818 0.21818182]]\n",
      "hyperparameters:(10, 1, 5, 0.2, 0.5), gmean :0.5022447316115806\n",
      "[[0.41414141 0.58585859]\n",
      " [0.39090909 0.60909091]]\n",
      "hyperparameters:(10, 1, 5, 0.2, 1), gmean :0.5255632336649405\n",
      "[[0.47474747 0.52525253]\n",
      " [0.41818182 0.58181818]]\n",
      "hyperparameters:(10, 1, 10, 0.2, 1), gmean :0.5581025179743679\n",
      "[[0.53535354 0.46464646]\n",
      " [0.41818182 0.58181818]]\n",
      "hyperparameters:(10, 1, 20, 0.2, 0.5), gmean :0.5652957001872009\n",
      "[[0.58585859 0.41414141]\n",
      " [0.45454545 0.54545455]]\n",
      "best combination for randome forest\n",
      "(10, 1, 20, 0.2, 0.5)\n"
     ]
    }
   ],
   "source": [
    "from sklearn.ensemble import GradientBoostingClassifier\n",
    "\n",
    "\n",
    "# Define the parameter space\n",
    "space = dict()\n",
    "space['n_estimators'] = [10, 15, 20 ]\n",
    "space['max_depth'] = [1, 2, 3, 4, 5 ]\n",
    "space['min_samples_leaf'] =   [ 5, 10, 20 ]\n",
    "space['max_features'] = [.2,.3,.4,.5]\n",
    "space['learning_rate'] = [ .1, .5, 1 ]\n",
    "\n",
    "\n",
    "\n",
    "# Compute the Cartesian product\n",
    "cartesian_product = list(product(*space.values()))\n",
    "\n",
    "maxScore = 0\n",
    "bestCombination_gb = None\n",
    "rf = None \n",
    "# Print the Cartesian product\n",
    "for combination in cartesian_product:\n",
    "    \n",
    "    \n",
    "    n_estimators = combination[0]\n",
    "    max_depth = combination[1]\n",
    "    min_samples_leaf = combination[2]\n",
    "    max_features = combination[3]\n",
    "    learning_rate  = combination[4]\n",
    "    \n",
    "      # TO DO \n",
    "    #1. Define a gradient boosting \n",
    "    #2. Fit using X_train_scaled, y_train\n",
    "    #3. predict on X_val_scaled\n",
    "    #4. calculate gmean\n",
    "    # 5. update best combionation if needed\n",
    "    \n",
    "    \n",
    "    \n",
    "    if \n",
    "        maxScore = gmean\n",
    "        bestCombination_gb = combination\n",
    "        print( 'hyperparameters:{}, gmean :{}'.format(combination, gmean ))\n",
    "        print( cm )\n",
    "        \n",
    "        \n",
    "\n",
    "    \n",
    "print('best combination for randome forest')\n",
    "print( bestCombination_gb )"
   ]
  },
  {
   "cell_type": "markdown",
   "id": "1eee3b1a",
   "metadata": {},
   "source": [
    "**[4 pts]** Use the best parameters to fit the final model. Then, check the accuracy of the test set.\n",
    "\n",
    "Please store the prediction of the test set into a variable called `pred_gb`.\n",
    "\n",
    "For reproducibility, please include the set `random_state =0` inside the gradient boositing tree object.\n",
    "\n",
    "Print the confusion matrix"
   ]
  },
  {
   "cell_type": "code",
   "execution_count": 22,
   "id": "1b6b0b09",
   "metadata": {},
   "outputs": [
    {
     "name": "stdout",
     "output_type": "stream",
     "text": [
      "[[0.75  0.25 ]\n",
      " [0.375 0.625]]\n"
     ]
    }
   ],
   "source": [
    "n_estimators = bestCombination_gb[0]\n",
    "max_depth = bestCombination_gb[1]\n",
    "min_samples_leaf = bestCombination_gb[2]\n",
    "max_features = bestCombination_gb[3]\n",
    "learning_rate  = bestCombination_gb[4]\n",
    "    \n",
    "# TO DO\n",
    "\n",
    "\n",
    "\n",
    "print( cm )"
   ]
  },
  {
   "cell_type": "markdown",
   "id": "ed381311",
   "metadata": {},
   "source": [
    "# SVM"
   ]
  },
  {
   "cell_type": "markdown",
   "id": "803a8b9c",
   "metadata": {},
   "source": [
    "**[8 pts]** Complete the hyperparameter tuning for the SVM. \n",
    "\n",
    "Use Gmean as the metric factor to compare the hyperparameter configurations.\n",
    "\n",
    "You need to fit the model on the training data and evaluate the validation set."
   ]
  },
  {
   "cell_type": "code",
   "execution_count": 23,
   "id": "41043fe1",
   "metadata": {},
   "outputs": [
    {
     "name": "stdout",
     "output_type": "stream",
     "text": [
      "hyperparameters:('rbf', 0.1, 0.001, 1, 2.0), gmean :0.3969581307590986\n",
      "[[0.78787879 0.21212121]\n",
      " [0.8        0.2       ]]\n",
      "hyperparameters:('rbf', 0.1, 0.01, 1, 2.0), gmean :0.4798989792685856\n",
      "[[0.57575758 0.42424242]\n",
      " [0.6        0.4       ]]\n",
      "hyperparameters:('sigmoid', 0.1, 0.1, 1, 2.0), gmean :0.48899740009561965\n",
      "[[0.62626263 0.37373737]\n",
      " [0.61818182 0.38181818]]\n",
      "hyperparameters:('poly', 0.1, 0.01, 5, 2.0), gmean :0.502518907629606\n",
      "[[0.55555556 0.44444444]\n",
      " [0.54545455 0.45454545]]\n",
      "hyperparameters:('poly', 0.1, 0.1, 2, 2.0), gmean :0.5158640348767676\n",
      "[[0.46464646 0.53535354]\n",
      " [0.42727273 0.57272727]]\n",
      "hyperparameters:('poly', 0.1, 0.1, 6, 3.0), gmean :0.5220571022389825\n",
      "[[0.53535354 0.46464646]\n",
      " [0.49090909 0.50909091]]\n",
      "best combination for randome forest\n",
      "('poly', 0.1, 0.1, 6, 3.0)\n"
     ]
    }
   ],
   "source": [
    "from sklearn.svm import SVC\n",
    "\n",
    "space = dict()\n",
    "space['kernel'] = ['rbf', 'sigmoid' , 'poly' ]\n",
    "space['C'] =   [0.1,1 ]\n",
    "space['gamma'] =  [.001, .01, .1 ] \n",
    "space['degree'] = [1, 2, 3, 4, 5, 6] \n",
    "space['coef0'] = [  2.0, 3.0 ]\n",
    "\n",
    "# Compute the Cartesian product\n",
    "cartesian_product = list(product(*space.values()))\n",
    "\n",
    "maxScore = 0\n",
    "bestCombination = None\n",
    "\n",
    "# Print the Cartesian product\n",
    "for combination in cartesian_product:\n",
    "    \n",
    "\n",
    "    kernel = combination[0]\n",
    "    C = combination[1]\n",
    "    gamma = combination[2]\n",
    "    degree = combination[3]\n",
    "    coef0 = combination[4]\n",
    "    \n",
    "      # TO DO \n",
    "    #1. Define a SVC \n",
    "    #2. Fit using X_train_scaled, y_train\n",
    "    #3. predict on X_val_scaled\n",
    "    #4. calculate gmean\n",
    "    # 5. update best combionation if needed\n",
    "    \n",
    "    if #complete condition\n",
    "        maxScore = gmean\n",
    "        bestCombination_svm = combination\n",
    "        print( 'hyperparameters:{}, gmean :{}'.format(combination, gmean  ))\n",
    "        print( cm )\n",
    "        \n",
    "        \n",
    "\n",
    "    \n",
    "print('best combination for randome forest')\n",
    "print( bestCombination_svm )\n",
    "\n"
   ]
  },
  {
   "cell_type": "markdown",
   "id": "f1043f6e",
   "metadata": {},
   "source": [
    "**[4 pts]** Use the best parameters to fit the final model. Then, check the accuracy of the test set.\n",
    "\n",
    "Please store the prediction of the test set into a variable called `pred_svm`.\n",
    "\n",
    "Print confusion matrix\n",
    "   "
   ]
  },
  {
   "cell_type": "code",
   "execution_count": 24,
   "id": "4cb4dfa6",
   "metadata": {},
   "outputs": [
    {
     "name": "stdout",
     "output_type": "stream",
     "text": [
      "[[0.65    0.35   ]\n",
      " [0.65625 0.34375]]\n"
     ]
    }
   ],
   "source": [
    "kernel = bestCombination_svm[0]\n",
    "C = bestCombination_svm[1]\n",
    "gamma = bestCombination_svm[2]\n",
    "degree = bestCombination_svm[3]\n",
    "coef0 = bestCombination_svm[4]\n",
    "\n",
    "# TO DO\n",
    "\n",
    "print( cm )"
   ]
  },
  {
   "cell_type": "markdown",
   "id": "a6551c3e",
   "metadata": {},
   "source": [
    "**[5 pts]** Based on your results, complete the following table"
   ]
  },
  {
   "cell_type": "markdown",
   "id": "9da5704c",
   "metadata": {},
   "source": [
    "| Model | Downward Accuracy (%) | Upward Accuracy (%) | G-Mean (%) |\n",
    "|-------|-----------------------|---------------------|------------|\n",
    "| RF    |      *replace*    |    *replace*    | *replace* |\n",
    "| GB    |      *replace*    |    *replace*    | *replace* |\n",
    "| SVM   |      *replace*    |    *replace*    | *replace* |"
   ]
  },
  {
   "cell_type": "markdown",
   "id": "eafe36dc",
   "metadata": {},
   "source": [
    "Provide interpretation of the results."
   ]
  },
  {
   "cell_type": "markdown",
   "id": "f9294518",
   "metadata": {},
   "source": [
    "# Checking Stock performance"
   ]
  },
  {
   "cell_type": "markdown",
   "id": "7c3145e2",
   "metadata": {},
   "source": [
    "In addition to the model accuracy, we can compare the models to evaluate which could obtain a better return."
   ]
  },
  {
   "cell_type": "markdown",
   "id": "cbe98502",
   "metadata": {},
   "source": [
    "The variable `X_test_actual` contains the actual return. To evaluate the models, let's use a simple investment strategy. We would buy when the model output is 1, and we do not buy otherwise."
   ]
  },
  {
   "cell_type": "markdown",
   "id": "c9c5956c",
   "metadata": {},
   "source": [
    "**[4 pts]** Calculate the return of each classifier by multiplying the prediction made for each classifier with the `X_test_actual` vector."
   ]
  },
  {
   "cell_type": "code",
   "execution_count": 25,
   "id": "9f8fd59e",
   "metadata": {},
   "outputs": [],
   "source": [
    "# TO DO\n",
    "return_rf =  \n",
    "return_gb =  \n",
    "return_svm =  "
   ]
  },
  {
   "cell_type": "code",
   "execution_count": 26,
   "id": "f51c7c60",
   "metadata": {},
   "outputs": [
    {
     "data": {
      "text/plain": [
       "<matplotlib.legend.Legend at 0x18802e5dc90>"
      ]
     },
     "execution_count": 26,
     "metadata": {},
     "output_type": "execute_result"
    },
    {
     "data": {
      "image/png": "[encoded data removed]",
      "text/plain": [
       "<Figure size 640x480 with 1 Axes>"
      ]
     },
     "metadata": {},
     "output_type": "display_data"
    }
   ],
   "source": [
    "weeks = np.arange(1,53)\n",
    "\n",
    "\n",
    "plt.figure()\n",
    "plt.plot( weeks, np.cumsum(  return_rf), '*-', label = 'RF')\n",
    "plt.plot( weeks, np.cumsum( return_gb ), 'x:', label = 'GB')\n",
    "plt.plot( weeks, np.cumsum(  return_svm), ':.', label = 'SVM')\n",
    "plt.plot( weeks, np.cumsum(  X_test_actual ), 'k--', label = 'market')\n",
    "plt.xlabel('Weeks')\n",
    "plt.ylabel('Accumalated return')\n",
    "plt.grid()\n",
    "plt.legend()\n",
    "\n"
   ]
  },
  {
   "cell_type": "markdown",
   "id": "6aeb4dfa",
   "metadata": {},
   "source": [
    "Complete the table, providing the accumlated interest obtain at the 52th week of 2010."
   ]
  },
  {
   "cell_type": "markdown",
   "id": "30167ce5",
   "metadata": {},
   "source": [
    "| Model | Accumulated interest (%)  |\n",
    "|-------|-----------------------|\n",
    "| RF    |      *replace*     |\n",
    "| GB    |      *replace*    |\n",
    "| SVM   |      *replace*     |"
   ]
  },
  {
   "cell_type": "markdown",
   "id": "5ecc32a7",
   "metadata": {},
   "source": [
    "[**6pts]** Provide interpretation. Which model was the best one? Based on the predictive performance, what could be the reason that that model performs better than the others? Did the model perform better than just buying shares of the index fund every week (black dotted line)?"
   ]
  },
  {
   "cell_type": "code",
   "execution_count": null,
   "id": "0f811e21",
   "metadata": {},
   "outputs": [],
   "source": []
  },
  {
   "cell_type": "code",
   "execution_count": null,
   "id": "035fc974",
   "metadata": {},
   "outputs": [],
   "source": []
  }
 ],
 "metadata": {
  "kernelspec": {
   "display_name": "Python 3 (ipykernel)",
   "language": "python",
   "name": "python3"
  },
  "language_info": {
   "codemirror_mode": {
    "name": "ipython",
    "version": 3
   },
   "file_extension": ".py",
   "mimetype": "text/x-python",
   "name": "python",
   "nbconvert_exporter": "python",
   "pygments_lexer": "ipython3",
   "version": "3.10.9"
  }
 },
 "nbformat": 4,
 "nbformat_minor": 5
}
